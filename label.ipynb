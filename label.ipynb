{
 "cells": [
  {
   "cell_type": "code",
   "execution_count": 1,
   "id": "addf4554",
   "metadata": {},
   "outputs": [],
   "source": [
    "import pandas as pd\n",
    "all = pd.read_csv(\"/Users/guanlizhe/Desktop/nccu/NLP/body_shaming/all.csv\", index_col=[0],low_memory=False)"
   ]
  },
  {
   "cell_type": "code",
   "execution_count": 2,
   "id": "770fdda6",
   "metadata": {},
   "outputs": [],
   "source": [
    "import warnings\n",
    "warnings.filterwarnings(\"ignore\")"
   ]
  },
  {
   "cell_type": "code",
   "execution_count": 93,
   "id": "0872b1c4",
   "metadata": {},
   "outputs": [],
   "source": [
    "all=all.drop_duplicates()\n",
    "all.reset_index(drop=True, inplace=True)"
   ]
  },
  {
   "cell_type": "code",
   "execution_count": 68,
   "id": "1d914320",
   "metadata": {},
   "outputs": [],
   "source": [
    "all['label'] = pd.Series(str) \n",
    "all=all.assign(label= \"NaN\")"
   ]
  },
  {
   "cell_type": "code",
   "execution_count": 1,
   "id": "e64ee48b",
   "metadata": {},
   "outputs": [],
   "source": [
    "for i in range(4000,5001):\n",
    "    print(\"all['label'][%d]= \" %i)"
   ]
  },
  {
   "cell_type": "code",
   "execution_count": 33,
   "id": "fc9ffd06",
   "metadata": {},
   "outputs": [],
   "source": [
    "all.to_csv(\"all.csv\",mode='w', encoding='utf-8')"
   ]
  }
 ],
 "metadata": {
  "kernelspec": {
   "display_name": "Python 3 (ipykernel)",
   "language": "python",
   "name": "python3"
  },
  "language_info": {
   "codemirror_mode": {
    "name": "ipython",
    "version": 3
   },
   "file_extension": ".py",
   "mimetype": "text/x-python",
   "name": "python",
   "nbconvert_exporter": "python",
   "pygments_lexer": "ipython3",
   "version": "3.10.7"
  },
  "vscode": {
   "interpreter": {
    "hash": "aee8b7b246df8f9039afb4144a1f6fd8d2ca17a180786b69acc140d282b71a49"
   }
  }
 },
 "nbformat": 4,
 "nbformat_minor": 5
}
