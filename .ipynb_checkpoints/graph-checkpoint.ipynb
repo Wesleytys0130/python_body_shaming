{
 "cells": [
  {
   "cell_type": "code",
   "execution_count": 33,
   "id": "a4061273",
   "metadata": {},
   "outputs": [],
   "source": [
    "import pandas as pd\n",
    "import re\n",
    "df = pd.read_csv(\"/Users/guanlizhe/Desktop/nccu/NLP/body_shaming/main_code/all_label.csv\", index_col=[0],low_memory=False)"
   ]
  },
  {
   "cell_type": "code",
   "execution_count": 34,
   "id": "2acb28a0",
   "metadata": {},
   "outputs": [],
   "source": [
    "df = df[df[\"label\"].astype(str).str.contains(pat = \"1\", regex=True,na=False)]"
   ]
  },
  {
   "cell_type": "code",
   "execution_count": 35,
   "id": "289b9288",
   "metadata": {},
   "outputs": [
    {
     "data": {
      "text/html": [
       "<div>\n",
       "<style scoped>\n",
       "    .dataframe tbody tr th:only-of-type {\n",
       "        vertical-align: middle;\n",
       "    }\n",
       "\n",
       "    .dataframe tbody tr th {\n",
       "        vertical-align: top;\n",
       "    }\n",
       "\n",
       "    .dataframe thead th {\n",
       "        text-align: right;\n",
       "    }\n",
       "</style>\n",
       "<table border=\"1\" class=\"dataframe\">\n",
       "  <thead>\n",
       "    <tr style=\"text-align: right;\">\n",
       "      <th></th>\n",
       "      <th>content</th>\n",
       "      <th>female</th>\n",
       "    </tr>\n",
       "  </thead>\n",
       "  <tbody>\n",
       "    <tr>\n",
       "      <th>0</th>\n",
       "      <td>樓上的  是因為腰粗所以走不藍尼路線嗎</td>\n",
       "      <td>other</td>\n",
       "    </tr>\n",
       "    <tr>\n",
       "      <th>1</th>\n",
       "      <td>她很胖~\"~</td>\n",
       "      <td>other</td>\n",
       "    </tr>\n",
       "    <tr>\n",
       "      <th>3</th>\n",
       "      <td>垃圾死肥豬</td>\n",
       "      <td>other</td>\n",
       "    </tr>\n",
       "    <tr>\n",
       "      <th>4</th>\n",
       "      <td>聽說他很胖  在日本減肥成功</td>\n",
       "      <td>other</td>\n",
       "    </tr>\n",
       "    <tr>\n",
       "      <th>5</th>\n",
       "      <td>胖子=豬... 好慘= =</td>\n",
       "      <td>other</td>\n",
       "    </tr>\n",
       "    <tr>\n",
       "      <th>...</th>\n",
       "      <td>...</td>\n",
       "      <td>...</td>\n",
       "    </tr>\n",
       "    <tr>\n",
       "      <th>7218</th>\n",
       "      <td>種天生甜不辣手還是保持乾淨就好…不要</td>\n",
       "      <td>other</td>\n",
       "    </tr>\n",
       "    <tr>\n",
       "      <th>7219</th>\n",
       "      <td>建立抄襲就畢不了業的制度啦幹 死胖子</td>\n",
       "      <td>other</td>\n",
       "    </tr>\n",
       "    <tr>\n",
       "      <th>7220</th>\n",
       "      <td>死肥豬什麼時候會得愛滋死掉</td>\n",
       "      <td>other</td>\n",
       "    </tr>\n",
       "    <tr>\n",
       "      <th>7222</th>\n",
       "      <td>樓下體脂高又醜又肥</td>\n",
       "      <td>other</td>\n",
       "    </tr>\n",
       "    <tr>\n",
       "      <th>7224</th>\n",
       "      <td>那個噁爛胖子真的很北懶</td>\n",
       "      <td>other</td>\n",
       "    </tr>\n",
       "  </tbody>\n",
       "</table>\n",
       "<p>5708 rows × 2 columns</p>\n",
       "</div>"
      ],
      "text/plain": [
       "                  content female\n",
       "0     樓上的  是因為腰粗所以走不藍尼路線嗎  other\n",
       "1                  她很胖~\"~  other\n",
       "3                   垃圾死肥豬  other\n",
       "4          聽說他很胖  在日本減肥成功  other\n",
       "5           胖子=豬... 好慘= =  other\n",
       "...                   ...    ...\n",
       "7218   種天生甜不辣手還是保持乾淨就好…不要  other\n",
       "7219   建立抄襲就畢不了業的制度啦幹 死胖子  other\n",
       "7220        死肥豬什麼時候會得愛滋死掉  other\n",
       "7222            樓下體脂高又醜又肥  other\n",
       "7224          那個噁爛胖子真的很北懶  other\n",
       "\n",
       "[5708 rows x 2 columns]"
      ]
     },
     "execution_count": 35,
     "metadata": {},
     "output_type": "execute_result"
    }
   ],
   "source": [
    "female = []\n",
    "for comment in df['content']:\n",
    "    comment = str(comment)\n",
    "    found = re.findall('肥婆|台女|扁奶|沒奶|胖妹|大媽|阿姨|阿桑|阿罵|婆媽|歐巴桑|龍妹|/?9妹|處女|嬯|破麻|陰道|鮑|陰唇|貞操|婊|妓女', comment)\n",
    "    if len(found) > 0:\n",
    "        female.append('female')\n",
    "    else:\n",
    "        female.append('other')\n",
    "df['female'] = female\n",
    "df[['content','female']]"
   ]
  },
  {
   "cell_type": "code",
   "execution_count": 47,
   "id": "09a0cfe8",
   "metadata": {},
   "outputs": [
    {
     "data": {
      "image/png": "[encoded data removed]",
      "text/plain": [
       "<Figure size 640x480 with 1 Axes>"
      ]
     },
     "metadata": {},
     "output_type": "display_data"
    }
   ],
   "source": [
    "import matplotlib.pyplot as plt\n",
    "import seaborn as sns\n",
    "df_girl = df[df[\"female\"].str.contains(pat = \"female\", regex=True,na=False)]\n",
    "df_other = df[df[\"female\"].str.contains(pat = \"other\", regex=True,na=False)]\n",
    " \n",
    "data = [len(df_girl),len(df_other)]\n",
    "labels=['female', 'other']\n",
    "explode = [0.02,0.02]\n",
    "colors = sns.color_palette('pastel')\n",
    "\n",
    "plt.pie(data, labels=labels, colors = colors,autopct = '%1.1f%%',explode = explode)\n",
    "plt.show()"
   ]
  }
 ],
 "metadata": {
  "kernelspec": {
   "display_name": "Python 3 (ipykernel)",
   "language": "python",
   "name": "python3"
  },
  "language_info": {
   "codemirror_mode": {
    "name": "ipython",
    "version": 3
   },
   "file_extension": ".py",
   "mimetype": "text/x-python",
   "name": "python",
   "nbconvert_exporter": "python",
   "pygments_lexer": "ipython3",
   "version": "3.10.7"
  }
 },
 "nbformat": 4,
 "nbformat_minor": 5
}
