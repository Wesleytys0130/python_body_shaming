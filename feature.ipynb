{
 "cells": [
  {
   "cell_type": "code",
   "execution_count": 1,
   "id": "79f06fc9",
   "metadata": {},
   "outputs": [],
   "source": [
    "import re\n",
    "import numpy as np\n",
    "import pandas as pd"
   ]
  },
  {
   "cell_type": "code",
   "execution_count": 140,
   "id": "91757f09",
   "metadata": {},
   "outputs": [],
   "source": [
    "pd.set_option('display.max_rows', 10)"
   ]
  },
  {
   "cell_type": "code",
   "execution_count": 199,
   "id": "30f8f650",
   "metadata": {
    "scrolled": false
   },
   "outputs": [],
   "source": [
    "df = pd.read_csv(\"/Users/guanlizhe/Desktop/nccu/NLP/body_shaming/all_label.csv\", index_col=[0],low_memory=False)\n",
    "# df"
   ]
  },
  {
   "cell_type": "code",
   "execution_count": 184,
   "id": "62c17d8e",
   "metadata": {},
   "outputs": [],
   "source": [
    "similar_animal = []\n",
    "for comment in df['content']:\n",
    "    comment = str(comment)\n",
    "    found = re.findall('豬|龍|猴|狗|鳥|蟲|象|畜|馬|河豚|鮪魚|蛞蝓', comment)\n",
    "    count = re.findall('歐米龍|萊豬|印象|不死鳥', comment)\n",
    "    if len(found) > 0 and len(count) == 0:\n",
    "        similar_animal.append(1)\n",
    "    else:\n",
    "        similar_animal.append(0)\n",
    "df['similar_animal'] = similar_animal"
   ]
  },
  {
   "cell_type": "code",
   "execution_count": 185,
   "id": "1d6fbce8",
   "metadata": {},
   "outputs": [],
   "source": [
    "similar_object = []\n",
    "for comment in df['content']:\n",
    "    comment = str(comment)\n",
    "    found = re.findall('盤子|水桶|竹竿|紙片|神棍|甜不辣|難民|骨|骷髏|臘腸|塑膠|火腿|騎士|奴隸|划龍舟|瓦斯', comment)\n",
    "    if len(found) > 0:\n",
    "        similar_object.append(1)\n",
    "    else:\n",
    "        similar_object.append(0)\n",
    "df['similar_object'] = similar_object"
   ]
  },
  {
   "cell_type": "code",
   "execution_count": 186,
   "id": "c9cfdcef",
   "metadata": {},
   "outputs": [],
   "source": [
    "body = []\n",
    "for comment in df['content']:\n",
    "    comment = str(comment)\n",
    "    found = re.findall('臉|腿|腳|手|肚|屁|腰', comment)\n",
    "    count = re.findall('打腫臉|柯屁|腰帶', comment)\n",
    "    if len(found) > 0 and len(count) == 0:\n",
    "        body.append(1)\n",
    "    else:\n",
    "        body.append(0)\n",
    "df['body'] = body"
   ]
  },
  {
   "cell_type": "code",
   "execution_count": 187,
   "id": "f221611d",
   "metadata": {},
   "outputs": [],
   "source": [
    "direct_adj = []\n",
    "for comment in df['content']:\n",
    "    comment = str(comment)\n",
    "    found = re.findall('醜|窮|胖|肥|矮|短|粗|臭|噁|垂|厚|禿|油|老|扁|鬼|髒|魯|殘|肉|腫|低能|不正|假掰|心機|心地惡毒', comment)\n",
    "    count = re.findall('安迪魯伊茲|胖虎|胖卡|金小胖|矮油|矮堅', comment)\n",
    "    if len(found) > 0 and len(count) == 0:\n",
    "        direct_adj.append(1)\n",
    "    else:\n",
    "        direct_adj.append(0)\n",
    "df['direct_adj'] = direct_adj"
   ]
  },
  {
   "cell_type": "code",
   "execution_count": 188,
   "id": "7403e609",
   "metadata": {},
   "outputs": [],
   "source": [
    "verb = []\n",
    "for comment in df['content']:\n",
    "    comment = str(comment)\n",
    "    found = re.findall('滾|跑|減肥|閉嘴|嘔|騷擾', comment)\n",
    "    if len(found) > 0:\n",
    "        verb.append(1)\n",
    "    else:\n",
    "        verb.append(0)\n",
    "df['verb'] = verb"
   ]
  },
  {
   "cell_type": "code",
   "execution_count": 189,
   "id": "994bbfe5",
   "metadata": {},
   "outputs": [],
   "source": [
    "slurs = []\n",
    "for comment in df['content']:\n",
    "    comment = str(comment)\n",
    "    found = re.findall('垃圾|廢物|馬的|媽的|操|幹|幹你媽|幹你娘|死|要命|跩|賤', comment)\n",
    "    count = re.findall('幹嘛|幹什麼|幹麼', comment)\n",
    "    if len(found)>0 and len(count)==0:\n",
    "        slurs.append(1)\n",
    "    else:\n",
    "        slurs.append(0)\n",
    "df['slur'] = slurs"
   ]
  },
  {
   "cell_type": "code",
   "execution_count": 190,
   "id": "f7399c4c",
   "metadata": {},
   "outputs": [],
   "source": [
    "sex = []\n",
    "for comment in df['content']:\n",
    "    comment = str(comment)\n",
    "    found = re.findall('屌|肛|自慰|姦|包莖|陰道|鮑|處男|處女|聖人模式|醜囊|喝茶|嬯|台女|墮胎|幹|A片|a片|破麻|破處|肏|督|抽插|陰唇|海鮮|晨勃|勃起|雞雞|做愛|貞操|強暴|洨|肉便器|婊|妓女|撞起來|能硬|打手槍|西斯|趴起來|ㄐㄐ', comment)\n",
    "    count = re.findall('洨胖|洨弟|洨妹', comment)\n",
    "    if len(found) > 0 and len(count) == 0:\n",
    "        sex.append(1)\n",
    "    else:\n",
    "        sex.append(0)\n",
    "df['sex'] = sex"
   ]
  },
  {
   "cell_type": "code",
   "execution_count": 191,
   "id": "8fdee98f",
   "metadata": {},
   "outputs": [],
   "source": [
    "lgbt = []\n",
    "for comment in df['content']:\n",
    "    comment = str(comment)\n",
    "    found = re.findall('甲|熊|女T|娘娘腔|變性|跨性別|gay|Gay|GAY', comment)\n",
    "    if len(found) > 0:\n",
    "        lgbt.append(1)\n",
    "    else:\n",
    "        lgbt.append(0)\n",
    "df['lgbt'] = lgbt"
   ]
  },
  {
   "cell_type": "code",
   "execution_count": 192,
   "id": "8ea6318e",
   "metadata": {},
   "outputs": [],
   "source": [
    "status = []\n",
    "for comment in df['content']:\n",
    "    comment = str(comment)\n",
    "    found = re.findall('8.?9|/+9|黑道|結婚|娶|大媽|阿姨|阿桑|阿罵|婆媽|歐巴桑|大叔', comment)\n",
    "    count = re.findall('未成年結婚', comment)\n",
    "    if len(found) > 0 and len(count) == 0:\n",
    "        status.append(1)\n",
    "    else:\n",
    "        status.append(0)\n",
    "df['status'] = status"
   ]
  },
  {
   "cell_type": "code",
   "execution_count": 182,
   "id": "25bca61f",
   "metadata": {},
   "outputs": [],
   "source": [
    "label_ver1 = []\n",
    "for comment in df['label']:\n",
    "    comment = str(comment)\n",
    "    found = re.findall('1|2|3|4', comment)\n",
    "    if len(found)>0:\n",
    "        label_ver1.append(1)\n",
    "    else:\n",
    "        label_ver1.append(0)\n",
    "df['label_ver1'] = label_ver1"
   ]
  },
  {
   "cell_type": "code",
   "execution_count": 25,
   "id": "5fd4731d",
   "metadata": {},
   "outputs": [],
   "source": [
    "label_ver2 = []\n",
    "for comment in df['label']:\n",
    "    comment = str(comment)\n",
    "    found1 = re.findall('1', comment)\n",
    "    found2 = re.findall('2', comment)\n",
    "    found3 = re.findall('3', comment)\n",
    "    if len(found1)>0:\n",
    "        label_ver2.append(1)\n",
    "    elif len(found2)>0:\n",
    "        label_ver2.append(2)\n",
    "    elif len(found3)>0:\n",
    "        label_ver2.append(3)\n",
    "    else:\n",
    "        label_ver2.append(0)\n",
    "df['label_ver2'] = label_ver2"
   ]
  },
  {
   "cell_type": "code",
   "execution_count": 194,
   "id": "54b01586",
   "metadata": {},
   "outputs": [],
   "source": [
    "df['label'] = df['label'].astype(int)\n",
    "df['lgbt'] = df['lgbt'].astype(int)\n",
    "df['sex'] = df['sex'].astype(int)\n",
    "df['status'] = df['status'].astype(int)\n",
    "df['similar_animal'] = df['similar_animal'].astype(int)\n",
    "df['similar_object'] = df['similar_object'].astype(int)\n",
    "df['direct_adj'] = df['direct_adj'].astype(int)\n",
    "df['verb'] = df['verb'].astype(int)\n",
    "df['body'] = df['body'].astype(int)\n",
    "df['slur'] = df['slur'].astype(int)\n",
    "df['label_ver1'] = df['label_ver1'].astype(int)"
   ]
  },
  {
   "cell_type": "markdown",
   "id": "fc2e1360",
   "metadata": {},
   "source": [
    "## 把tag推噓箭頭向量化"
   ]
  },
  {
   "cell_type": "code",
   "execution_count": 195,
   "id": "bb187d08",
   "metadata": {},
   "outputs": [],
   "source": [
    "from sklearn.preprocessing import LabelEncoder\n",
    "\n",
    "label_encoder = LabelEncoder() \n",
    "features_tag = df[['tag']].apply(LabelEncoder().fit_transform)\n",
    "features_tag\n",
    "df.insert(2,\"tag_num\",features_tag,True)"
   ]
  },
  {
   "cell_type": "code",
   "execution_count": 213,
   "id": "053f2947",
   "metadata": {},
   "outputs": [],
   "source": [
    "df[['tag_num', 'content', 'similar_animal', 'similar_object', 'body', 'direct_adj', 'verb', 'slur', 'sex', 'lgbt', 'status', 'label_ver1']][:20]"
   ]
  },
  {
   "cell_type": "code",
   "execution_count": 34,
   "id": "5384d7b5",
   "metadata": {},
   "outputs": [],
   "source": [
    "df.to_csv(\"all_label.csv\",mode='w', encoding='utf-8')"
   ]
  }
 ],
 "metadata": {
  "kernelspec": {
   "display_name": "Python 3 (ipykernel)",
   "language": "python",
   "name": "python3"
  },
  "language_info": {
   "codemirror_mode": {
    "name": "ipython",
    "version": 3
   },
   "file_extension": ".py",
   "mimetype": "text/x-python",
   "name": "python",
   "nbconvert_exporter": "python",
   "pygments_lexer": "ipython3",
   "version": "3.10.7"
  }
 },
 "nbformat": 4,
 "nbformat_minor": 5
}
